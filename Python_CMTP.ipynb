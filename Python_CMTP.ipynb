{
 "cells": [
  {
   "cell_type": "markdown",
   "metadata": {},
   "source": [
    "## Question 1. \n",
    "\n",
    "A compiler takes an entire program and converts it into object code which is typically stored in a file. The object code (or binary code) can be directly executed by the machine after linking. E.g: C or C++\n",
    "\n",
    "An interpreter directly executes instructions written in a programming or scripting language without previously converting them to an object code or machine code. E.g. : Perl, Matlab\n",
    "\n",
    "Python is using an interpreter"
   ]
  },
  {
   "cell_type": "markdown",
   "metadata": {},
   "source": [
    "## Question 2"
   ]
  },
  {
   "cell_type": "code",
   "execution_count": 104,
   "metadata": {},
   "outputs": [],
   "source": [
    "def converter():\n",
    "    fahr = float(input(\"What temperature would you like to convert from Fahrenheit to Celsius: \"))\n",
    "    cel = ((fahr - 32)*5)/9\n",
    "    print(f'Your temperature in Celsius: {cel}')\n"
   ]
  },
  {
   "cell_type": "code",
   "execution_count": 105,
   "metadata": {},
   "outputs": [
    {
     "name": "stdout",
     "output_type": "stream",
     "text": [
      "What temperature would you like to convert from Fahrenheit to Celsius: 101\n",
      "Your temperature in Celsius: 38.333333333333336\n"
     ]
    }
   ],
   "source": [
    "converter()"
   ]
  },
  {
   "cell_type": "markdown",
   "metadata": {},
   "source": [
    "## Question 3"
   ]
  },
  {
   "cell_type": "code",
   "execution_count": 103,
   "metadata": {
    "scrolled": true
   },
   "outputs": [
    {
     "data": {
      "text/plain": [
       "63.015625"
      ]
     },
     "execution_count": 103,
     "metadata": {},
     "output_type": "execute_result"
    }
   ],
   "source": [
    "# x*(y+x^(x-y)+56)/4 \n",
    "# Direct substitution by hand gives 63.015625\n",
    "\n",
    "# 4*(7+4^(-3)+56)/4 = 62\n",
    "\n",
    "#Need to change to the following\n",
    "4*(7+4**(-3)+56)/4\n"
   ]
  },
  {
   "cell_type": "markdown",
   "metadata": {},
   "source": [
    "## Question 4"
   ]
  },
  {
   "cell_type": "code",
   "execution_count": 19,
   "metadata": {},
   "outputs": [
    {
     "data": {
      "text/plain": [
       "8.5"
      ]
     },
     "execution_count": 19,
     "metadata": {},
     "output_type": "execute_result"
    }
   ],
   "source": [
    "# 4.\n",
    "\n",
    "width, height = 17,12.0\n",
    "\n",
    "width/2"
   ]
  },
  {
   "cell_type": "code",
   "execution_count": 20,
   "metadata": {},
   "outputs": [
    {
     "data": {
      "text/plain": [
       "8.5"
      ]
     },
     "execution_count": 20,
     "metadata": {},
     "output_type": "execute_result"
    }
   ],
   "source": [
    "width/2.0"
   ]
  },
  {
   "cell_type": "code",
   "execution_count": 21,
   "metadata": {},
   "outputs": [
    {
     "data": {
      "text/plain": [
       "4.0"
      ]
     },
     "execution_count": 21,
     "metadata": {},
     "output_type": "execute_result"
    }
   ],
   "source": [
    "height/3"
   ]
  },
  {
   "cell_type": "code",
   "execution_count": 99,
   "metadata": {},
   "outputs": [
    {
     "data": {
      "text/plain": [
       "6.0"
      ]
     },
     "execution_count": 99,
     "metadata": {},
     "output_type": "execute_result"
    }
   ],
   "source": [
    "1+2*5/2"
   ]
  },
  {
   "cell_type": "code",
   "execution_count": 102,
   "metadata": {},
   "outputs": [],
   "source": [
    "# Q.4 ii) type of all of them are floats in Python 3.x"
   ]
  },
  {
   "cell_type": "markdown",
   "metadata": {},
   "source": [
    "## Question 5"
   ]
  },
  {
   "cell_type": "code",
   "execution_count": 9,
   "metadata": {},
   "outputs": [
    {
     "name": "stdout",
     "output_type": "stream",
     "text": [
      "What score did you get?: 4.8\n",
      "F\n"
     ]
    }
   ],
   "source": [
    "def grade():\n",
    "    test = float(input(\"What score did you get?: \"))\n",
    "    if 0.0 <= test <= 10.0:\n",
    "        if test >= 9.0:\n",
    "            print(\"A\")\n",
    "        elif test >= 8.0:\n",
    "            print(\"B\")\n",
    "        elif test >= 7.0:\n",
    "            print(\"C\")\n",
    "        elif test >= 6.0:\n",
    "            print(\"D\")\n",
    "        elif test <6.0 :\n",
    "            print(\"F\")\n",
    "    else:\n",
    "        print(\"Invalid number inputted\")\n",
    "grade()"
   ]
  },
  {
   "cell_type": "code",
   "execution_count": 11,
   "metadata": {},
   "outputs": [
    {
     "name": "stdout",
     "output_type": "stream",
     "text": [
      "What score did you get?: 11\n",
      "Invalid number inputted\n"
     ]
    }
   ],
   "source": [
    "grade()"
   ]
  },
  {
   "cell_type": "markdown",
   "metadata": {},
   "source": [
    "## Question 6"
   ]
  },
  {
   "cell_type": "code",
   "execution_count": 138,
   "metadata": {},
   "outputs": [
    {
     "name": "stdout",
     "output_type": "stream",
     "text": [
      "D\n"
     ]
    }
   ],
   "source": [
    "def computegrade(test):\n",
    "    if 0.0 <= test <= 10.0:\n",
    "        if test >= 9.0:\n",
    "            print(\"A\")\n",
    "        elif test >= 8.0:\n",
    "            print(\"B\")\n",
    "        elif test >= 7.0:\n",
    "            print(\"C\")\n",
    "        elif test >= 6.0:\n",
    "            print(\"D\")\n",
    "        elif test <6.0 :\n",
    "            print(\"F\")\n",
    "    else:\n",
    "        print(\"Invalid number inputted\")\n",
    "computegrade(6.8)"
   ]
  },
  {
   "cell_type": "code",
   "execution_count": 139,
   "metadata": {},
   "outputs": [
    {
     "name": "stdout",
     "output_type": "stream",
     "text": [
      "B\n"
     ]
    }
   ],
   "source": [
    "computegrade(8.0)"
   ]
  },
  {
   "cell_type": "markdown",
   "metadata": {},
   "source": [
    "## Question 7"
   ]
  },
  {
   "cell_type": "code",
   "execution_count": 7,
   "metadata": {},
   "outputs": [
    {
     "name": "stdout",
     "output_type": "stream",
     "text": [
      "Please input a number: 10\n",
      "Please input a number: 4\n",
      "Please input a number: 5\n",
      "Please input a number: 6\n",
      "Please input a number: 1\n",
      "Please input a number: Done\n",
      "Total equals 26.0, count equals 5, average equals 5.2\n"
     ]
    }
   ],
   "source": [
    "def summary():\n",
    "    user = \"Please input a number: \"\n",
    "    average = 0\n",
    "    sum = 0\n",
    "    count = 0\n",
    "    while True:\n",
    "        numb = input(user)\n",
    "        prompt = (\"Enter another number: \")\n",
    "        if numb == 'Done':\n",
    "            break\n",
    "        try:\n",
    "            sum += float(numb)\n",
    "            count +=1\n",
    "            average = sum / count\n",
    "        except ValueError:\n",
    "            print(\"Invalid Number\")\n",
    "    print(\"Total equals {}, count equals {}, average equals {}\".format(str(sum), str(count), str(average)))\n",
    "summary()"
   ]
  },
  {
   "cell_type": "markdown",
   "metadata": {},
   "source": [
    "## Question 8"
   ]
  },
  {
   "cell_type": "code",
   "execution_count": 13,
   "metadata": {},
   "outputs": [
    {
     "name": "stdout",
     "output_type": "stream",
     "text": [
      "Enter filename: Python_CMTP.txt\n",
      "FIRST LINE OF TEXT FILE\n",
      "\n",
      "THIS IS THE SECOND LINE\n",
      "\n",
      "THIRD AND FINAL LINE\n"
     ]
    }
   ],
   "source": [
    "def printFile():\n",
    "    textfile = open(input(\"Enter filename: \"))\n",
    "    for line in textfile:\n",
    "        print(line.upper())\n",
    "\n",
    "printFile()"
   ]
  },
  {
   "cell_type": "markdown",
   "metadata": {},
   "source": [
    "## Question 9"
   ]
  },
  {
   "cell_type": "code",
   "execution_count": 16,
   "metadata": {},
   "outputs": [
    {
     "name": "stdout",
     "output_type": "stream",
     "text": [
      "Enter filename: money makes the world go around\n",
      "A funny message\n"
     ]
    }
   ],
   "source": [
    "def printFile():\n",
    "    textfile = (input(\"Enter filename: \"))\n",
    "    if textfile == 'money makes the world go around':\n",
    "        print('A funny message')\n",
    "    else:\n",
    "        file = open(textfile)\n",
    "        for line in file:\n",
    "            print(line.upper())\n",
    "\n",
    "printFile()"
   ]
  },
  {
   "cell_type": "markdown",
   "metadata": {},
   "source": [
    "## Question 10"
   ]
  },
  {
   "cell_type": "code",
   "execution_count": 137,
   "metadata": {},
   "outputs": [
    {
     "name": "stdout",
     "output_type": "stream",
     "text": [
      "Enter filename: Q_10.txt\n",
      "[('fd@firstderviatives.com', 1), ('dont@me.com', 1), ('fd@firstderivatives.com', 1), ('name@bank.com', 2), ('test@gmail.com', 2), ('david@fake.com', 3)]\n"
     ]
    }
   ],
   "source": [
    "def email_counter():\n",
    "    counter=dict()\n",
    "    file = input(\"Enter filename: \")\n",
    "    with open(file) as f:\n",
    "        for line in f:\n",
    "            if line.startswith('From:'):\n",
    "                lines=line.split()\n",
    "                email=lines[1]\n",
    "                counter[email]=counter.get(email,0)+1\n",
    "    print(sorted(counter.items(), key=lambda x: x[1]))\n",
    "email_counter()"
   ]
  },
  {
   "cell_type": "markdown",
   "metadata": {},
   "source": [
    "## Question 11"
   ]
  },
  {
   "cell_type": "code",
   "execution_count": 40,
   "metadata": {},
   "outputs": [
    {
     "name": "stdout",
     "output_type": "stream",
     "text": [
      "Please insert file name: Q_11.txt\n",
      "Counter({'i': 49, 'e': 45, 'u': 43, 's': 43, 't': 38, 'a': 37, 'n': 28, 'r': 27, 'o': 26, 'l': 25, 'c': 25, 'm': 23, 'd': 22, 'p': 17, 'f': 7, 'b': 7, 'h': 5, 'v': 3, 'x': 2, 'q': 2, 'j': 2, 'g': 2})\n"
     ]
    }
   ],
   "source": [
    "from collections import Counter\n",
    "import re\n",
    "file = input(\"Please insert file name: \")\n",
    "with open(file) as f:\n",
    "    for line in f:\n",
    "        f = line.lower()\n",
    "        f = re.sub(r'[^a-zA-Z]',\"\", f)\n",
    "    c = Counter()\n",
    "    for x in f:\n",
    "        c += Counter(x.strip())\n",
    "    print(c)"
   ]
  },
  {
   "cell_type": "code",
   "execution_count": 137,
   "metadata": {},
   "outputs": [
    {
     "data": {
      "image/png": "[encoded data removed]",
      "text/plain": [
       "<matplotlib.figure.Figure at 0x663b0b8>"
      ]
     },
     "metadata": {},
     "output_type": "display_data"
    }
   ],
   "source": [
    "indexes = np.arange(len(values))\n",
    "width = 1\n",
    "\n",
    "plt.bar(indexes, values, width)\n",
    "plt.xticks(indexes + width * 0.5, letters)\n",
    "plt.show()"
   ]
  },
  {
   "cell_type": "markdown",
   "metadata": {},
   "source": [
    "## Question 12"
   ]
  },
  {
   "cell_type": "code",
   "execution_count": 50,
   "metadata": {},
   "outputs": [],
   "source": [
    "def Q_12():\n",
    "    filename=input(\"Enter filename you want to search: \")\n",
    "    search=input(\"Enter search term: \")\n",
    "    file=open(filename)\n",
    "    f=file.read()\n",
    "    count=f.count(search)\n",
    "    print(f'The string \"{search}\" appeared {count} times in the file')"
   ]
  },
  {
   "cell_type": "code",
   "execution_count": 51,
   "metadata": {},
   "outputs": [
    {
     "name": "stdout",
     "output_type": "stream",
     "text": [
      "Enter filename you want to search: Q_12.txt\n",
      "Enter search term: erat\n",
      "The string \"erat\" appeared 12 times in the file\n"
     ]
    }
   ],
   "source": [
    "Q_12()"
   ]
  },
  {
   "cell_type": "code",
   "execution_count": 52,
   "metadata": {},
   "outputs": [
    {
     "name": "stdout",
     "output_type": "stream",
     "text": [
      "Enter filename you want to search: Q_12.txt\n",
      "Enter search term: test\n",
      "The string \"test\" appeared 0 times in the file\n"
     ]
    }
   ],
   "source": [
    "Q_12()"
   ]
  },
  {
   "cell_type": "code",
   "execution_count": 54,
   "metadata": {},
   "outputs": [
    {
     "name": "stdout",
     "output_type": "stream",
     "text": [
      "Enter filename you want to search: Q_12.txt\n",
      "Enter search term: vestibulum\n",
      "The string \"vestibulum\" appeared 3 times in the file\n"
     ]
    }
   ],
   "source": [
    "Q_12()"
   ]
  },
  {
   "cell_type": "markdown",
   "metadata": {},
   "source": [
    "## Question 13\n",
    "\n",
    "### Syntax error:\n",
    "\n",
    "A syntax error is an indication that there is a syntactic error in the code, which causes the parser or compiler or executor to be unable to determine what the intention of the code is.\n",
    "\n",
    "### Parse \n",
    "\n",
    "Parsing is the process of analyising a sentence or other string of words into its constituents by a computer. This results in a parse tree showing their syntactic relation to each other, which may also contain semantic and other information.\n",
    "\n",
    "### Void function \n",
    "\n",
    "A void function is that which is designed without a return statement - these can't be used to plug into other functions\n",
    "\n",
    "### Dot notation\n",
    "\n",
    "Python supports object orientated programming - each object is an instance of a class or a type of object. Dot notation allows us to tell a instance of a class to use one of the methods inside that class. So if we called david_fitzgerald.say_name() it would call the method say_name() that was written in the person class because david_fitzgerald is a person.\n",
    "\n",
    "\n",
    "### Infinite loop\n",
    "\n",
    "An infinite loop is a loop which runs endlessly, this can be caused by not having a terminating condition, a terminating condition never getting met, or the terminating condition being that the loop begins again.\n",
    "\n",
    "\n",
    "### Hash function\n",
    "\n",
    "A hash function any function that can be used to map data of arbitrary size to data of a fixed size. The values returned by a hash function are called hash values, hash codes, digests, or simply hashes.\n",
    "\n",
    "### Lookup\n",
    "\n",
    "Lookups are used to find the values in a dictionary for a set of given keys\n",
    "\n",
    "### Tuple\n",
    "\n",
    "Tuples are immutable, and usually contain a heterogeneous sequence of elements that are accessed via unpacking\n",
    "or indexing. This differs from lists which are mutable, and their elements are usually homogeneous and are accessed by iterating over the list.\n",
    "\n",
    "### Singleton\n",
    "\n",
    "A singleton is a way to provide one and only one object of a particular type.\n",
    "\n",
    "### API\n",
    "\n",
    "API or Application Program Interface is a set of functions and procedures that allow the creation of applications which access the features or data of an operating system, application, or other service."
   ]
  },
  {
   "cell_type": "markdown",
   "metadata": {},
   "source": [
    "## Question 14\n",
    "\n",
    "The following searches an inputted keyword and returns the top 10 most favourited tweets containing that keyword, for the last 7 days."
   ]
  },
  {
   "cell_type": "code",
   "execution_count": 62,
   "metadata": {},
   "outputs": [],
   "source": [
    "import json\n",
    "\n",
    "# Enter your keys/secrets as strings in the following fields\n",
    "credentials = {}  \n",
    "credentials['CONSUMER_KEY'] = 'EtWBZkyNqKC0jLQXl7HfAGVjx'\n",
    "credentials['CONSUMER_SECRET'] = 'qlMZhuQgYy27MrmS2oYwobNYVrPaRzB9YluXFdq01BKC8LXUXO'  \n",
    "credentials['ACCESS_TOKEN'] = '959679914063552512-3K75amYjoW5gaaYLjUpxPtrltcWG90y'  \n",
    "credentials['ACCESS_SECRET'] = 'cHRf239ytRibuFBMnXZSPEhf3RHfRtUnWDdMh7EkfG4BC'\n",
    "\n",
    "# Save the credentials object to json file\n",
    "with open(\"twitter_credentials.json\", \"w\") as file:  \n",
    "    json.dump(credentials, file)"
   ]
  },
  {
   "cell_type": "code",
   "execution_count": 93,
   "metadata": {},
   "outputs": [],
   "source": [
    "from twython import Twython\n",
    "import json\n",
    "\n",
    "#load keys from json file\n",
    "with open(\"twitter_credentials.json\", \"r\") as file:  \n",
    "    creds = json.load(file)\n",
    "    \n",
    "import pandas as pd\n",
    "\n",
    "#apply credentials\n",
    "python_tweets = Twython(creds['CONSUMER_KEY'], creds['CONSUMER_SECRET'])\n",
    "\n",
    "def favourites():\n",
    "    keyword = input('What would you like to search?: ')\n",
    "    \n",
    "    #10 most favourited tweets with inputted 'keyword'\n",
    "    query = {'q': str(keyword),  \n",
    "        'result_type': 'popular',\n",
    "        'count': 10,\n",
    "        'lang': 'en',\n",
    "        }\n",
    "    # Search tweets\n",
    "    dict_ = {'user': [], 'date': [], 'text': [], 'favorite_count': []}  \n",
    "    for status in python_tweets.search(**query)['statuses']:  \n",
    "        dict_['user'].append(status['user']['screen_name'])\n",
    "        dict_['date'].append(status['created_at'])\n",
    "        dict_['text'].append(status['text'])\n",
    "        dict_['favorite_count'].append(status['favorite_count'])\n",
    "    df = pd.DataFrame(dict_)  \n",
    "    df.sort_values(by='favorite_count', inplace=True, ascending=False)  \n",
    "    display(df)"
   ]
  },
  {
   "cell_type": "code",
   "execution_count": 96,
   "metadata": {},
   "outputs": [
    {
     "name": "stdout",
     "output_type": "stream",
     "text": [
      "What would you like to search?: #Cork\n"
     ]
    },
    {
     "data": {
      "text/html": [
       "<div>\n",
       "<style scoped>\n",
       "    .dataframe tbody tr th:only-of-type {\n",
       "        vertical-align: middle;\n",
       "    }\n",
       "\n",
       "    .dataframe tbody tr th {\n",
       "        vertical-align: top;\n",
       "    }\n",
       "\n",
       "    .dataframe thead th {\n",
       "        text-align: right;\n",
       "    }\n",
       "</style>\n",
       "<table border=\"1\" class=\"dataframe\">\n",
       "  <thead>\n",
       "    <tr style=\"text-align: right;\">\n",
       "      <th></th>\n",
       "      <th>date</th>\n",
       "      <th>favorite_count</th>\n",
       "      <th>text</th>\n",
       "      <th>user</th>\n",
       "    </tr>\n",
       "  </thead>\n",
       "  <tbody>\n",
       "    <tr>\n",
       "      <th>3</th>\n",
       "      <td>Mon May 28 22:18:11 +0000 2018</td>\n",
       "      <td>230</td>\n",
       "      <td>Shame!! For feck sake, Tony.. Would a REAL #Co...</td>\n",
       "      <td>sportsdes</td>\n",
       "    </tr>\n",
       "    <tr>\n",
       "      <th>8</th>\n",
       "      <td>Tue May 29 20:06:51 +0000 2018</td>\n",
       "      <td>102</td>\n",
       "      <td>Successful resuscitation of a Cardiac Arrest p...</td>\n",
       "      <td>AmbulanceNAS</td>\n",
       "    </tr>\n",
       "    <tr>\n",
       "      <th>9</th>\n",
       "      <td>Thu May 31 07:24:29 +0000 2018</td>\n",
       "      <td>48</td>\n",
       "      <td>Looking for something to do this weekend? why ...</td>\n",
       "      <td>corkcitycouncil</td>\n",
       "    </tr>\n",
       "    <tr>\n",
       "      <th>4</th>\n",
       "      <td>Mon May 28 13:37:38 +0000 2018</td>\n",
       "      <td>47</td>\n",
       "      <td>.@TourismIreland in Spain has teamed up with @...</td>\n",
       "      <td>CorkAirport</td>\n",
       "    </tr>\n",
       "    <tr>\n",
       "      <th>7</th>\n",
       "      <td>Thu May 31 07:56:59 +0000 2018</td>\n",
       "      <td>37</td>\n",
       "      <td>After almost a dozen previous deferrals, An Bo...</td>\n",
       "      <td>PaschalSheehy</td>\n",
       "    </tr>\n",
       "    <tr>\n",
       "      <th>2</th>\n",
       "      <td>Sun Jun 03 11:00:00 +0000 2018</td>\n",
       "      <td>36</td>\n",
       "      <td>On Your Bike To Save A Life is a new #WildAtla...</td>\n",
       "      <td>wildatlanticway</td>\n",
       "    </tr>\n",
       "    <tr>\n",
       "      <th>6</th>\n",
       "      <td>Mon May 28 21:15:14 +0000 2018</td>\n",
       "      <td>32</td>\n",
       "      <td>'Cork as a city is once again at a moment of a...</td>\n",
       "      <td>corkcitycouncil</td>\n",
       "    </tr>\n",
       "    <tr>\n",
       "      <th>0</th>\n",
       "      <td>Mon Jun 04 18:09:26 +0000 2018</td>\n",
       "      <td>26</td>\n",
       "      <td>The scene just outside #Buttevant in County #C...</td>\n",
       "      <td>PaschalSheehy</td>\n",
       "    </tr>\n",
       "    <tr>\n",
       "      <th>5</th>\n",
       "      <td>Thu May 31 08:20:19 +0000 2018</td>\n",
       "      <td>19</td>\n",
       "      <td>Campaign group CHASE reacts to Bord Pleanala’s...</td>\n",
       "      <td>EoinBearla</td>\n",
       "    </tr>\n",
       "    <tr>\n",
       "      <th>1</th>\n",
       "      <td>Mon Jun 04 12:44:21 +0000 2018</td>\n",
       "      <td>18</td>\n",
       "      <td>Emergency services dealing with a road crash b...</td>\n",
       "      <td>PaschalSheehy</td>\n",
       "    </tr>\n",
       "  </tbody>\n",
       "</table>\n",
       "</div>"
      ],
      "text/plain": [
       "                             date  favorite_count  \\\n",
       "3  Mon May 28 22:18:11 +0000 2018             230   \n",
       "8  Tue May 29 20:06:51 +0000 2018             102   \n",
       "9  Thu May 31 07:24:29 +0000 2018              48   \n",
       "4  Mon May 28 13:37:38 +0000 2018              47   \n",
       "7  Thu May 31 07:56:59 +0000 2018              37   \n",
       "2  Sun Jun 03 11:00:00 +0000 2018              36   \n",
       "6  Mon May 28 21:15:14 +0000 2018              32   \n",
       "0  Mon Jun 04 18:09:26 +0000 2018              26   \n",
       "5  Thu May 31 08:20:19 +0000 2018              19   \n",
       "1  Mon Jun 04 12:44:21 +0000 2018              18   \n",
       "\n",
       "                                                text             user  \n",
       "3  Shame!! For feck sake, Tony.. Would a REAL #Co...        sportsdes  \n",
       "8  Successful resuscitation of a Cardiac Arrest p...     AmbulanceNAS  \n",
       "9  Looking for something to do this weekend? why ...  corkcitycouncil  \n",
       "4  .@TourismIreland in Spain has teamed up with @...      CorkAirport  \n",
       "7  After almost a dozen previous deferrals, An Bo...    PaschalSheehy  \n",
       "2  On Your Bike To Save A Life is a new #WildAtla...  wildatlanticway  \n",
       "6  'Cork as a city is once again at a moment of a...  corkcitycouncil  \n",
       "0  The scene just outside #Buttevant in County #C...    PaschalSheehy  \n",
       "5  Campaign group CHASE reacts to Bord Pleanala’s...       EoinBearla  \n",
       "1  Emergency services dealing with a road crash b...    PaschalSheehy  "
      ]
     },
     "metadata": {},
     "output_type": "display_data"
    }
   ],
   "source": [
    "favourites()"
   ]
  },
  {
   "cell_type": "code",
   "execution_count": null,
   "metadata": {},
   "outputs": [],
   "source": []
  }
 ],
 "metadata": {
  "anaconda-cloud": {},
  "kernelspec": {
   "display_name": "Python 3",
   "language": "python",
   "name": "python3"
  },
  "language_info": {
   "codemirror_mode": {
    "name": "ipython",
    "version": 3
   },
   "file_extension": ".py",
   "mimetype": "text/x-python",
   "name": "python",
   "nbconvert_exporter": "python",
   "pygments_lexer": "ipython3",
   "version": "3.6.4"
  }
 },
 "nbformat": 4,
 "nbformat_minor": 1
}
